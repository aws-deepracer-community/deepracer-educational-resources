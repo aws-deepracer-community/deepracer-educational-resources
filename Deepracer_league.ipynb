{
  "nbformat": 4,
  "nbformat_minor": 0,
  "metadata": {
    "colab": {
      "name": "Deepracer_league.ipynb",
      "provenance": [],
      "authorship_tag": "ABX9TyOFIqE0793WCpD+7Kcdf8cu",
      "include_colab_link": true
    },
    "kernelspec": {
      "name": "python3",
      "display_name": "Python 3"
    },
    "language_info": {
      "name": "python"
    }
  },
  "cells": [
    {
      "cell_type": "markdown",
      "metadata": {
        "id": "view-in-github",
        "colab_type": "text"
      },
      "source": [
        "<a href=\"https://colab.research.google.com/github/mokoron/deepracer/blob/main/Deepracer_league.ipynb\" target=\"_parent\"><img src=\"https://colab.research.google.com/assets/colab-badge.svg\" alt=\"Open In Colab\"/></a>"
      ]
    },
    {
      "cell_type": "code",
      "metadata": {
        "id": "yEfUcMikGydf"
      },
      "source": [
        "import pandas as pd\n",
        "from IPython.display import display, HTML\n",
        "pd.set_option(\"display.max_rows\", None, \"display.max_columns\", None)"
      ],
      "execution_count": null,
      "outputs": []
    },
    {
      "cell_type": "code",
      "metadata": {
        "id": "g2C-_KtVEg6E"
      },
      "source": [
        "# Load data from https://github.com/aws-deepracer-community/deepracer-race-data/tree/main/raw_data/leaderboards\n",
        "# don't forget to update curent month file \n",
        "\n",
        "df_march = pd.read_csv('https://raw.githubusercontent.com/aws-deepracer-community/deepracer-race-data/main/raw_data/leaderboards/arn%3Aaws%3Adeepracer%3A%3A%3Aleaderboard/86eb6d2e-72ad-4443-8b40-fb67514f5afe/FINAL.csv')\n",
        "df_apr = pd.read_csv('https://raw.githubusercontent.com/aws-deepracer-community/deepracer-race-data/main/raw_data/leaderboards/arn%3Aaws%3Adeepracer%3A%3A%3Aleaderboard/765677a6-1423-41b2-aa54-02313d8466cd/FINAL.csv')\n",
        "df_may = pd.read_csv('https://raw.githubusercontent.com/aws-deepracer-community/deepracer-race-data/main/raw_data/leaderboards/arn%3Aaws%3Adeepracer%3A%3A%3Aleaderboard/948918ed-a1a4-41fc-98bb-08bfa87dabd0/FINAL.csv')\n",
        "df_june = pd.read_csv('https://raw.githubusercontent.com/aws-deepracer-community/deepracer-race-data/main/raw_data/leaderboards/arn%3Aaws%3Adeepracer%3A%3A%3Aleaderboard/33816f04-2112-4664-9631-e758051de31e/FINAL.csv')\n",
        "df_july = pd.read_csv('https://raw.githubusercontent.com/aws-deepracer-community/deepracer-race-data/main/raw_data/leaderboards/arn%3Aaws%3Adeepracer%3A%3A%3Aleaderboard/a5132954-b546-4ae6-89e0-3c9711ac6980/FINAL.csv')\n",
        "df_aug = pd.read_csv('https://raw.githubusercontent.com/aws-deepracer-community/deepracer-race-data/main/raw_data/leaderboards/arn%3Aaws%3Adeepracer%3A%3A%3Aleaderboard/08433c0d-01d6-4ded-aca8-675fab8292cf/FINAL.csv')\n",
        "df_sept = pd.read_csv('https://raw.githubusercontent.com/aws-deepracer-community/deepracer-race-data/main/raw_data/leaderboards/arn%3Aaws%3Adeepracer%3A%3A%3Aleaderboard/9f2d829b-888d-4fc1-ba83-215ce4c01851/FINAL.csv')\n",
        "df_oct = pd.read_csv('https://raw.githubusercontent.com/aws-deepracer-community/deepracer-race-data/main/raw_data/leaderboards/arn%3Aaws%3Adeepracer%3A%3A%3Aleaderboard/3f4f0e17-37eb-4363-bb9a-3bf1eafdc96b/FINAL.csv')\n",
        "\n",
        "\n",
        "df_march_win = pd.read_csv('https://raw.githubusercontent.com/aws-deepracer-community/deepracer-race-data/main/raw_data/leaderboards/arn%3Aaws%3Adeepracer%3A%3A%3Aleaderboard/466ad055-0f74-4b3f-8310-119ca00b9eae/FINAL.csv')\n",
        "df_apr_win = pd.read_csv('https://raw.githubusercontent.com/aws-deepracer-community/deepracer-race-data/main/raw_data/leaderboards/arn%3Aaws%3Adeepracer%3A%3A%3Aleaderboard/d7911e8f-5c8a-4eb2-8870-c9fe60957791/FINAL.csv')\n",
        "df_may_win = pd.read_csv('https://raw.githubusercontent.com/aws-deepracer-community/deepracer-race-data/main/raw_data/leaderboards/arn%3Aaws%3Adeepracer%3A%3A%3Aleaderboard/286c89be-5d24-4e58-94eb-963689309459/FINAL.csv')\n",
        "df_june_win = pd.read_csv('https://raw.githubusercontent.com/aws-deepracer-community/deepracer-race-data/main/raw_data/leaderboards/arn%3Aaws%3Adeepracer%3A%3A%3Aleaderboard/e32329fc-8592-4cc0-a99f-707b8940e734/FINAL.csv')\n",
        "df_july_win = pd.read_csv('https://raw.githubusercontent.com/aws-deepracer-community/deepracer-race-data/main/raw_data/leaderboards/arn%3Aaws%3Adeepracer%3A%3A%3Aleaderboard/6c8c590e-9927-48c9-b9c9-78ea50b54e6f/FINAL.csv')\n",
        "df_aug_win = pd.read_csv('https://raw.githubusercontent.com/aws-deepracer-community/deepracer-race-data/main/raw_data/leaderboards/arn%3Aaws%3Adeepracer%3A%3A%3Aleaderboard/0d1c6ad8-643d-4239-88e6-f7926f579887/FINAL.csv')\n",
        "df_sept_win = pd.read_csv('https://raw.githubusercontent.com/aws-deepracer-community/deepracer-race-data/main/raw_data/leaderboards/arn%3Aaws%3Adeepracer%3A%3A%3Aleaderboard/c4a29839-21f9-4f35-8866-0a4e2422712b/FINAL.csv')\n",
        "#df_oct_win = pd.read_csv('')\n",
        "\n",
        "\n",
        "list_car = [df_march, df_apr, df_may, df_june, df_july, df_aug, df_sept, df_oct]\n",
        "Month = ['March', 'April', 'May', 'June', 'July', 'August', 'September', 'October']\n",
        "list_winners = [df_march_win, df_apr_win, df_may_win, df_june_win, df_july_win, df_aug_win, df_sept_win]\n"
      ],
      "execution_count": null,
      "outputs": []
    },
    {
      "cell_type": "code",
      "metadata": {
        "id": "sIs-yQ1kXgxl"
      },
      "source": [
        "def car_winners_new():\n",
        "  df_car_winners = pd.DataFrame(columns=['Alias', 'UserId', 'Rank', 'Month'])\n",
        "  for idx, list_file in enumerate(list_winners):\n",
        "    df_car_winners = df_car_winners.append(list_file[['Alias', 'UserId', 'Rank']]).drop_duplicates('UserId').reset_index(drop=True).iloc[:(idx+1)*10]\n",
        "    \n",
        "    if len(df_car_winners.index) < (idx+1)*10:\n",
        "      print (\"added \", (idx+1)*10-len(df_car_winners.index), \"racers from \", Month[idx], \"PRO League\")\n",
        "      list_car_file = list_car[idx]\n",
        "      df_car_winners = df_car_winners.append(list_car_file[['Alias', 'UserId', 'Rank']]).drop_duplicates('UserId').reset_index(drop=True).iloc[:(idx+1)*10]\n",
        "    df_car_winners['Month']= df_car_winners['Month'].fillna(Month[idx])     \n",
        "  return df_car_winners\n",
        "\n",
        "def winner():\n",
        "  df_winners = pd.DataFrame(columns=['Alias', 'UserId', 'Rank', 'Month'])\n",
        "\n",
        "  for idx, list_file in enumerate(list_winners):\n",
        "    df_winners = df_winners.append(list_file[['Alias', 'UserId', 'Rank']]).drop_duplicates('UserId').reset_index(drop=True).iloc[:(idx+1)*3]\n",
        "    df_winners['Month']= df_winners['Month'].fillna(Month[idx])\n",
        "  return df_winners\n",
        "\n",
        "def sixteen_applicants():\n",
        "  current_winners = winner()  \n",
        "  final_race_pretendents = current_winners.append(df_oct[['Alias', 'UserId', 'Rank']]).drop_duplicates('UserId').reset_index(drop=True).iloc[21:37]\n",
        "  final_race_pretendents['Month']= final_race_pretendents['Month'].fillna(\"Oct win. applicants\")   \n",
        "  return final_race_pretendents\n",
        "\n",
        "def car_applicants():\n",
        "  current_car_winners = car_winners_new()\n",
        "  car_pretendents = current_car_winners.append(df_oct[['Alias', 'UserId', 'Rank']]).drop_duplicates('UserId').reset_index(drop=True).iloc[70:80]\n",
        "  car_pretendents['Month']= car_pretendents['Month'].fillna(\"Oct car applicants\")   \n",
        "  return car_pretendents\n"
      ],
      "execution_count": null,
      "outputs": []
    },
    {
      "cell_type": "code",
      "metadata": {
        "colab": {
          "base_uri": "https://localhost:8080/"
        },
        "id": "twKmMHjGeMSX",
        "outputId": "29be5e11-9093-4f3d-df1b-83a1268c7b13"
      },
      "source": [
        "print (car_winners_new()) \n"
      ],
      "execution_count": null,
      "outputs": [
        {
          "output_type": "stream",
          "name": "stdout",
          "text": [
            "added  1 racers from  April PRO League\n",
            "added  3 racers from  May PRO League\n",
            "added  7 racers from  June PRO League\n",
            "added  7 racers from  July PRO League\n",
            "added  8 racers from  August PRO League\n",
            "added  9 racers from  September PRO League\n",
            "                           Alias                  UserId Rank      Month\n",
            "0                       Karl-NAB  4vOOxLIsSjeL2WFaO5o_fQ    1      March\n",
            "1                             JJ  afdcX_4vRH6Ussd0mbg5LQ    2      March\n",
            "2                           DBro  jEkEOpjZRhGUbyDZIfTo_A    3      March\n",
            "3                      flatearth  9e3a9607a4e04ba2b1a49w    4      March\n",
            "4                  PolishThunder  qi512oGVTry8V-KtP6j2_w    5      March\n",
            "5                         Jochem  RBPhZc5eTVmEF_gpSV7skg    6      March\n",
            "6                         Maikel  FeKoIRn0Tsa6tACAWZ_2gw    7      March\n",
            "7                GT-DevelopersIO  8WSp4P7ZRn-jJgZLnugwkA    8      March\n",
            "8                        Ernesto  8zBEAp0-S5yGbcZvytGZGQ    9      March\n",
            "9               JPMC-RogerRabbit  DXXOncNRR1iiqhBvpPO-_A   10      March\n",
            "10        JPMC-DriftKing-Houston  fngewpiZSZm11yX7YgwnMA    5      April\n",
            "11                         Mungi  RgTvucbNQja7yiYbgh2p9A    8      April\n",
            "12                         Rober  KrRSYhzKTfONjRaDUc_ubQ    9      April\n",
            "13                     dartjason  JSflDq5rQgKEuA5Ots4kDQ   10      April\n",
            "14                     Duckworth  VIu9BQ4-Th6gUqu60ztwUQ   12      April\n",
            "15                 Penguin-DNPds  Nr3YCYWGTA631Xqa0uDPhw   13      April\n",
            "16               RobinCastro-DBS  7KrbyQXvTBOxnBa0p9YuUA   14      April\n",
            "17                   AIDeepRacer  pIRbdCx6QYatgVXm2p5GbA   15      April\n",
            "18                   AJM-Model-1  gdsU9bkGRWW7LTEHP4rGgQ   16      April\n",
            "19                          Matt  cVk-aYKdRUmuL0qmjyzmag   19      April\n",
            "20                         Joffe  ce17e3bfe82649448e2f3w    3        May\n",
            "21                  Breadcentric  SjNec5b-SpOk7y9b6rh4KQ    5        May\n",
            "22                Yoway-NYCU-CGI  1fBE9Y-DR4aOhdY6ydu-rA    8        May\n",
            "23                Yi-LI-NYCU-CGI  jrJHq8pZQAyj4gGqMw8-DQ    9        May\n",
            "24                     rosscomp1  fb0d597a87f94697aa1c6w   12        May\n",
            "25         JPMC-HandsFree-London  DZAYqyd-Tp6eE15IopWCgQ   14        May\n",
            "26              ZhengYi-NYCU-CGI  qY4J9IzvQS6a1N-KZXwviA   15        May\n",
            "27                         alexj  Km6btE1_SFCCCqWJ4H6Fyg   22        May\n",
            "28         ShibaInu-DevelopersIO  q3lEztDGTfSD-GgkF5IgTg   23        May\n",
            "29                         MiLKB  8KL8u0H3RIWxgP14x_RC6w   26        May\n",
            "30      JPMC-TeamOne-BuenosAires  Fy8bvUIzSN-N-e3D74JhPw    1       June\n",
            "31                         TonyJ  af962be5a4ed4c57af807w    4       June\n",
            "32                        SorinB  TFtvCas4TRWchrBPMyGh0A   14       June\n",
            "33                         atnmn  b3960b6c6f58458880ceew   24       June\n",
            "34                  EnBW-Flitzer  je1HIMgRQtibB3H9325TRw   28       June\n",
            "35                    kimwooglae  bOqKo-ebR_essdUaZVGO4Q   29       June\n",
            "36                         think  IHHC4YftQLaMAs0VyXFJzw   30       June\n",
            "37                       ABaykov  aa28j7SWTd-LxMzvFoj_bA   31       June\n",
            "38                         Ohrid  78e6a549fe0a4a8e90b41w   34       June\n",
            "39                     kimmizian  t6NwFsqgS4mYnFeR3KVxsg   35       June\n",
            "40            JPMC-Ace-Hyderabad  6fdcVCAkQtCCsyHEO0LNiA    6       July\n",
            "41          JPMC-Rogue-Hyderabad  LKdw_hyKTSu7moFuxbmiZw    9       July\n",
            "42              CGS-LargeLattice  o6NgljsnTOOelVAsofMR3g   12       July\n",
            "43                        skoota  -1lhRLeeRTCRUGoxx3ybDA   24       July\n",
            "44         JPMC-Singapore-Chetak  LJzDpiNuTFeHu9dsqp1APw   27       July\n",
            "45                ProteusXplorer  iRqwbBoKQY-tP2tGpIMlxA   31       July\n",
            "46                    Doug-Racer  1R021ZoDQrqxSUiHfBvyEw   37       July\n",
            "47                   JPMC-Ann-NJ  sGrJzwIVRZ6-HawSmV1Tyg   39       July\n",
            "48            JPMC-KWGK-HongKong  zKdKXknwQVCObGdEgutObQ   40       July\n",
            "49                     UberAllen  ASI6Udz9QCewwoQHEyDbpw   43       July\n",
            "50                       Fumiaki  5RzBNYRAQoWVausi3eyhRg    9     August\n",
            "51                        Carvai  SsDvF8JeRvaeXye0kQfvpA   12     August\n",
            "52      CGS-on-your-12-hopefully  C4LEAeusQ8uY4gJ45GcKlg   21     August\n",
            "53                  blueberrypie  EmZsQC41RtW5hhxb6z2-xQ   31     August\n",
            "54                  ep-dr-racer1  vEZxFEnhQHeI5tKR4Tz3rQ   32     August\n",
            "55               CGS-Huge-Hadr0n  63LA0_QCQ1-fRLzXgWmAeQ   34     August\n",
            "56                     LeadingAI  VP5wwaH5T4GciaMX2ocEvQ   36     August\n",
            "57                 CGS-NoobRacer  aAzrnsy5RA-xhP44Su0AWg   37     August\n",
            "58  JPMC-BMTH-RacersOfTheLostArk  4607b3c36ab4490cad7a4w   38     August\n",
            "59                  mayurmadnani  hr8K12KMRhSIDUEJbQT8fg   40     August\n",
            "60                           ADA  KiqOhQPjTamuBXicXnKGEA   14  September\n",
            "61                    Deepak-dpk  gDTBFK77TM6wD6uObZlulA   25  September\n",
            "62                 Bandwidth-RnD  77V1kp1kRJCO5D4zgSrqxA   27  September\n",
            "63                  CGS-BigBoson  U1DMLV72SSmIjLE-fPGbuw   28  September\n",
            "64               Jacky-LeadingAI  G17n-1ZGRomjX-x9WXUvhw   30  September\n",
            "65                        Yuliya  JWJgkv8bSKeMIGYZ9roR-A   32  September\n",
            "66                          S-P-  MxT5p4ZvSTOcc6ANa8VZNg   33  September\n",
            "67                  Aurora-DNPds  26fba66bedca4aa3bca47w   42  September\n",
            "68                     KenyaMpya  ttQ3BR0RTiGi0tdduIXIzA   47  September\n",
            "69                      Janesoki  3SvT2_04Tl-5RIyNtDNtjA   49  September\n"
          ]
        }
      ]
    },
    {
      "cell_type": "code",
      "metadata": {
        "colab": {
          "base_uri": "https://localhost:8080/"
        },
        "id": "slZSegC2eURg",
        "outputId": "c29bd5ac-9ff4-4d02-8355-7aab9039074f"
      },
      "source": [
        "print (\"Applicants for final race: \\n\", sixteen_applicants())\n"
      ],
      "execution_count": null,
      "outputs": [
        {
          "output_type": "stream",
          "name": "stdout",
          "text": [
            "Applicants for final race: \n",
            "                        Alias                  UserId Rank                Month\n",
            "21      JPMC-Rogue-Hyderabad  LKdw_hyKTSu7moFuxbmiZw    4  Oct win. applicants\n",
            "22           Ghost-Rider-007  yjfHxWGORWWg1wHFQFBH4g    6  Oct win. applicants\n",
            "23                   Ernesto  8zBEAp0-S5yGbcZvytGZGQ    8  Oct win. applicants\n",
            "24                   Fumiaki  5RzBNYRAQoWVausi3eyhRg   10  Oct win. applicants\n",
            "25             Penguin-DNPds  Nr3YCYWGTA631Xqa0uDPhw   12  Oct win. applicants\n",
            "26                    SorinB  TFtvCas4TRWchrBPMyGh0A   13  Oct win. applicants\n",
            "27           GT-DevelopersIO  8WSp4P7ZRn-jJgZLnugwkA   14  Oct win. applicants\n",
            "28               AJM-Model-1  gdsU9bkGRWW7LTEHP4rGgQ   16  Oct win. applicants\n",
            "29  JPMC-HYD-CircuitBreakers  vA_gK0vxTNWI-MTWEWLAxw   17  Oct win. applicants\n",
            "30                     TonyJ  af962be5a4ed4c57af807w   18  Oct win. applicants\n",
            "31                       ADA  KiqOhQPjTamuBXicXnKGEA   19  Oct win. applicants\n",
            "32              CGS-BigBoson  U1DMLV72SSmIjLE-fPGbuw   20  Oct win. applicants\n",
            "33                Deepak-dpk  gDTBFK77TM6wD6uObZlulA   21  Oct win. applicants\n",
            "34        JPMC-Ace-Hyderabad  6fdcVCAkQtCCsyHEO0LNiA   23  Oct win. applicants\n",
            "35                      Matt  cVk-aYKdRUmuL0qmjyzmag   24  Oct win. applicants\n",
            "36  CGS-on-your-12-hopefully  C4LEAeusQ8uY4gJ45GcKlg   25  Oct win. applicants\n"
          ]
        }
      ]
    },
    {
      "cell_type": "code",
      "metadata": {
        "id": "KzMHVUM3IcEg",
        "colab": {
          "base_uri": "https://localhost:8080/"
        },
        "outputId": "070bcec1-d84f-4d6a-c071-183f4ce1ff67"
      },
      "source": [
        "print (\"Current car applicants: \\n\", car_applicants())"
      ],
      "execution_count": null,
      "outputs": [
        {
          "output_type": "stream",
          "name": "stdout",
          "text": [
            "added  1 racers from  April PRO League\n",
            "added  3 racers from  May PRO League\n",
            "added  7 racers from  June PRO League\n",
            "added  7 racers from  July PRO League\n",
            "added  8 racers from  August PRO League\n",
            "added  9 racers from  September PRO League\n",
            "Current car applicants: \n",
            "                        Alias                  UserId Rank               Month\n",
            "70           Ghost-Rider-007  yjfHxWGORWWg1wHFQFBH4g    6  Oct car applicants\n",
            "71  JPMC-HYD-CircuitBreakers  vA_gK0vxTNWI-MTWEWLAxw   17  Oct car applicants\n",
            "72                   Galileo  Y79AzaaOR-u4LVKMxu1Mdw   39  Oct car applicants\n",
            "73            CGS-Slipstream  N6W21hRAQAqs-12kYgYM6Q   41  Oct car applicants\n",
            "74             anuj-aggarwal  o_BkPc7jTK68tjHZiBRQEw   42  Oct car applicants\n",
            "75      JPMC-MUM-RapidRacers  mvhmcw-ET5igAaFz3O6kGw   44  Oct car applicants\n",
            "76                    Xavier  pPhTbPBRSg-L3tYPKcCjcA   49  Oct car applicants\n",
            "77                 Ash-DNPds  9aced9109a634d11a3134w   51  Oct car applicants\n",
            "78                  Kurosaki  vrUZUm-aQQCQ0rEZjXcfOA   53  Oct car applicants\n",
            "79                   ferrite  SRAgn9lMTCmIjaBREP7hxA   54  Oct car applicants\n"
          ]
        }
      ]
    },
    {
      "cell_type": "code",
      "metadata": {
        "id": "hGl0FXTuEvHf"
      },
      "source": [
        ""
      ],
      "execution_count": null,
      "outputs": []
    },
    {
      "cell_type": "code",
      "metadata": {
        "id": "rpfMMw_9H17_"
      },
      "source": [
        ""
      ],
      "execution_count": null,
      "outputs": []
    },
    {
      "cell_type": "code",
      "metadata": {
        "id": "6BBeIIYkODtn",
        "colab": {
          "base_uri": "https://localhost:8080/"
        },
        "outputId": "73726323-9ef0-4db6-c209-acb563468f5c"
      },
      "source": [
        "# Print who qualify for the Re:Invent\n",
        "print (winner ()) "
      ],
      "execution_count": null,
      "outputs": [
        {
          "output_type": "stream",
          "name": "stdout",
          "text": [
            "                       Alias                  UserId Rank      Month\n",
            "0                   Karl-NAB  4vOOxLIsSjeL2WFaO5o_fQ    1      March\n",
            "1                         JJ  afdcX_4vRH6Ussd0mbg5LQ    2      March\n",
            "2                       DBro  jEkEOpjZRhGUbyDZIfTo_A    3      March\n",
            "3           JPMC-RogerRabbit  DXXOncNRR1iiqhBvpPO-_A    1      April\n",
            "4                  flatearth  9e3a9607a4e04ba2b1a49w    2      April\n",
            "5              PolishThunder  qi512oGVTry8V-KtP6j2_w    3      April\n",
            "6                     Jochem  RBPhZc5eTVmEF_gpSV7skg    1        May\n",
            "7     JPMC-DriftKing-Houston  fngewpiZSZm11yX7YgwnMA    2        May\n",
            "8                      Joffe  ce17e3bfe82649448e2f3w    3        May\n",
            "9   JPMC-TeamOne-BuenosAires  Fy8bvUIzSN-N-e3D74JhPw    1       June\n",
            "10            Yoway-NYCU-CGI  1fBE9Y-DR4aOhdY6ydu-rA    2       June\n",
            "11              Breadcentric  SjNec5b-SpOk7y9b6rh4KQ    3       June\n",
            "12          ZhengYi-NYCU-CGI  qY4J9IzvQS6a1N-KZXwviA    1       July\n",
            "13            Yi-LI-NYCU-CGI  jrJHq8pZQAyj4gGqMw8-DQ    2       July\n",
            "14                 rosscomp1  fb0d597a87f94697aa1c6w    3       July\n",
            "15               AIDeepRacer  pIRbdCx6QYatgVXm2p5GbA    1     August\n",
            "16                 Duckworth  VIu9BQ4-Th6gUqu60ztwUQ    2     August\n",
            "17          CGS-LargeLattice  o6NgljsnTOOelVAsofMR3g    3     August\n",
            "18                     Rober  KrRSYhzKTfONjRaDUc_ubQ    1  September\n",
            "19           CGS-Huge-Hadr0n  63LA0_QCQ1-fRLzXgWmAeQ    2  September\n",
            "20                    Carvai  SsDvF8JeRvaeXye0kQfvpA    3  September\n"
          ]
        }
      ]
    },
    {
      "cell_type": "code",
      "metadata": {
        "id": "-2ZOI4Iydoyt"
      },
      "source": [
        ""
      ],
      "execution_count": null,
      "outputs": []
    },
    {
      "cell_type": "code",
      "metadata": {
        "id": "MHqea2lmmTzk"
      },
      "source": [
        ""
      ],
      "execution_count": null,
      "outputs": []
    },
    {
      "cell_type": "code",
      "metadata": {
        "id": "-y4xc63fmYYN"
      },
      "source": [
        ""
      ],
      "execution_count": null,
      "outputs": []
    }
  ]
}