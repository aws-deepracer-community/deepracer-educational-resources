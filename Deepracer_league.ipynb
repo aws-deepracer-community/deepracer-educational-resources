{
  "nbformat": 4,
  "nbformat_minor": 0,
  "metadata": {
    "colab": {
      "name": "Deepracer_league.ipynb",
      "provenance": [],
      "authorship_tag": "ABX9TyOywLEXDU7gcn/XTXE66XZN",
      "include_colab_link": true
    },
    "kernelspec": {
      "name": "python3",
      "display_name": "Python 3"
    },
    "language_info": {
      "name": "python"
    }
  },
  "cells": [
    {
      "cell_type": "markdown",
      "metadata": {
        "id": "view-in-github",
        "colab_type": "text"
      },
      "source": [
        "<a href=\"https://colab.research.google.com/github/mokoron/deepracer/blob/main/Deepracer_league.ipynb\" target=\"_parent\"><img src=\"https://colab.research.google.com/assets/colab-badge.svg\" alt=\"Open In Colab\"/></a>"
      ]
    },
    {
      "cell_type": "code",
      "metadata": {
        "id": "yEfUcMikGydf"
      },
      "source": [
        "import pandas as pd\n",
        "from IPython.display import display, HTML"
      ],
      "execution_count": 58,
      "outputs": []
    },
    {
      "cell_type": "code",
      "metadata": {
        "id": "g2C-_KtVEg6E"
      },
      "source": [
        "# Load data from https://github.com/aws-deepracer-community/deepracer-race-data/tree/main/raw_data/leaderboards\n",
        "# don't forget to update curent month file \n",
        "\n",
        "df_march = pd.read_csv('https://raw.githubusercontent.com/aws-deepracer-community/deepracer-race-data/main/raw_data/leaderboards/arn%3Aaws%3Adeepracer%3A%3A%3Aleaderboard/86eb6d2e-72ad-4443-8b40-fb67514f5afe/FINAL.csv')\n",
        "df_apr = pd.read_csv('https://raw.githubusercontent.com/aws-deepracer-community/deepracer-race-data/main/raw_data/leaderboards/arn%3Aaws%3Adeepracer%3A%3A%3Aleaderboard/765677a6-1423-41b2-aa54-02313d8466cd/FINAL.csv')\n",
        "df_may = pd.read_csv('https://raw.githubusercontent.com/aws-deepracer-community/deepracer-race-data/main/raw_data/leaderboards/arn%3Aaws%3Adeepracer%3A%3A%3Aleaderboard/948918ed-a1a4-41fc-98bb-08bfa87dabd0/FINAL.csv')\n",
        "df_june = pd.read_csv('https://raw.githubusercontent.com/aws-deepracer-community/deepracer-race-data/main/raw_data/leaderboards/arn%3Aaws%3Adeepracer%3A%3A%3Aleaderboard/33816f04-2112-4664-9631-e758051de31e/FINAL.csv')\n",
        "df_july = pd.read_csv('https://raw.githubusercontent.com/aws-deepracer-community/deepracer-race-data/main/raw_data/leaderboards/arn%3Aaws%3Adeepracer%3A%3A%3Aleaderboard/a5132954-b546-4ae6-89e0-3c9711ac6980/FINAL.csv')\n",
        "df_aug = pd.read_csv('https://raw.githubusercontent.com/aws-deepracer-community/deepracer-race-data/main/raw_data/leaderboards/arn%3Aaws%3Adeepracer%3A%3A%3Aleaderboard/08433c0d-01d6-4ded-aca8-675fab8292cf/FINAL.csv')\n",
        "df_sept = pd.read_csv('https://raw.githubusercontent.com/aws-deepracer-community/deepracer-race-data/main/raw_data/leaderboards/arn%3Aaws%3Adeepracer%3A%3A%3Aleaderboard/9f2d829b-888d-4fc1-ba83-215ce4c01851/FINAL.csv')\n",
        "df_oct = pd.read_csv('https://raw.githubusercontent.com/aws-deepracer-community/deepracer-race-data/main/raw_data/leaderboards/arn%3Aaws%3Adeepracer%3A%3A%3Aleaderboard/3f4f0e17-37eb-4363-bb9a-3bf1eafdc96b/2021-10-25T13%3A00%3A00Z.csv')\n",
        "\n",
        "\n",
        "df_march_win = pd.read_csv('https://raw.githubusercontent.com/aws-deepracer-community/deepracer-race-data/main/raw_data/leaderboards/arn%3Aaws%3Adeepracer%3A%3A%3Aleaderboard/466ad055-0f74-4b3f-8310-119ca00b9eae/FINAL.csv')\n",
        "df_apr_win = pd.read_csv('https://raw.githubusercontent.com/aws-deepracer-community/deepracer-race-data/main/raw_data/leaderboards/arn%3Aaws%3Adeepracer%3A%3A%3Aleaderboard/d7911e8f-5c8a-4eb2-8870-c9fe60957791/FINAL.csv')\n",
        "df_may_win = pd.read_csv('https://raw.githubusercontent.com/aws-deepracer-community/deepracer-race-data/main/raw_data/leaderboards/arn%3Aaws%3Adeepracer%3A%3A%3Aleaderboard/286c89be-5d24-4e58-94eb-963689309459/FINAL.csv')\n",
        "df_june_win = pd.read_csv('https://raw.githubusercontent.com/aws-deepracer-community/deepracer-race-data/main/raw_data/leaderboards/arn%3Aaws%3Adeepracer%3A%3A%3Aleaderboard/e32329fc-8592-4cc0-a99f-707b8940e734/FINAL.csv')\n",
        "df_july_win = pd.read_csv('https://raw.githubusercontent.com/aws-deepracer-community/deepracer-race-data/main/raw_data/leaderboards/arn%3Aaws%3Adeepracer%3A%3A%3Aleaderboard/6c8c590e-9927-48c9-b9c9-78ea50b54e6f/FINAL.csv')\n",
        "df_aug_win = pd.read_csv('https://raw.githubusercontent.com/aws-deepracer-community/deepracer-race-data/main/raw_data/leaderboards/arn%3Aaws%3Adeepracer%3A%3A%3Aleaderboard/0d1c6ad8-643d-4239-88e6-f7926f579887/FINAL.csv')\n",
        "df_sept_win = pd.read_csv('https://raw.githubusercontent.com/aws-deepracer-community/deepracer-race-data/main/raw_data/leaderboards/arn%3Aaws%3Adeepracer%3A%3A%3Aleaderboard/c4a29839-21f9-4f35-8866-0a4e2422712b/FINAL.csv')\n",
        "#df_oct_win = pd.read_csv('')\n",
        "\n",
        "\n",
        "list_car = [df_march, df_apr, df_may, df_june, df_july, df_aug, df_sept, df_oct]\n",
        "Month = ['March', 'April', 'May', 'June', 'July', 'August', 'September', 'October']\n",
        "list_winners = [df_march_win, df_apr_win, df_may_win, df_june_win, df_july_win, df_aug_win, df_sept_win]\n"
      ],
      "execution_count": 119,
      "outputs": []
    },
    {
      "cell_type": "code",
      "metadata": {
        "id": "sIs-yQ1kXgxl"
      },
      "source": [
        "def car_winners ():\n",
        "  df_car_winners = pd.DataFrame(columns=['Alias', 'UserId', 'Month'])\n",
        "  for idx, list_file in enumerate(list_car):\n",
        "    df_car_winners = df_car_winners.append(list_file[['Alias', 'UserId']]).drop_duplicates('UserId').reset_index(drop=True).iloc[:(idx+1)*10]\n",
        "    df_car_winners['Month']= df_car_winners['Month'].fillna(Month[idx])\n",
        "  return df_car_winners\n",
        "\n",
        "\n",
        "def winner ():\n",
        "  df_winners = pd.DataFrame(columns=['Alias', 'UserId', 'Month'])\n",
        "\n",
        "  for idx, list_file in enumerate(list_winners):\n",
        "    df_winners = df_winners.append(list_file[['Alias', 'UserId']]).drop_duplicates('UserId').reset_index(drop=True).iloc[:(idx+1)*3]\n",
        "    df_winners['Month']= df_winners['Month'].fillna(Month[idx])\n",
        "  return df_winners\n"
      ],
      "execution_count": 120,
      "outputs": []
    },
    {
      "cell_type": "code",
      "metadata": {
        "colab": {
          "base_uri": "https://localhost:8080/"
        },
        "id": "twKmMHjGeMSX",
        "outputId": "32681fbb-9e23-406f-a498-d18cb18bd73d"
      },
      "source": [
        "# print who win a car so far\n",
        "print (car_winners()) "
      ],
      "execution_count": 117,
      "outputs": [
        {
          "output_type": "stream",
          "name": "stdout",
          "text": [
            "                           Alias                  UserId      Month\n",
            "0                             JJ  afdcX_4vRH6Ussd0mbg5LQ      March\n",
            "1                      flatearth  9e3a9607a4e04ba2b1a49w      March\n",
            "2                    RogerRabbit  DXXOncNRR1iiqhBvpPO-_A      March\n",
            "3                           DBro  jEkEOpjZRhGUbyDZIfTo_A      March\n",
            "4                        Fumiaki  5RzBNYRAQoWVausi3eyhRg      March\n",
            "5                  PolishThunder  qi512oGVTry8V-KtP6j2_w      March\n",
            "6                      Duckworth  VIu9BQ4-Th6gUqu60ztwUQ      March\n",
            "7                       Karl-NAB  4vOOxLIsSjeL2WFaO5o_fQ      March\n",
            "8                         Jochem  RBPhZc5eTVmEF_gpSV7skg      March\n",
            "9                GT-DevelopersIO  8WSp4P7ZRn-jJgZLnugwkA      March\n",
            "10                     dartjason  JSflDq5rQgKEuA5Ots4kDQ      April\n",
            "11        JPMC-DriftKing-Houston  fngewpiZSZm11yX7YgwnMA      April\n",
            "12                       Ernesto  8zBEAp0-S5yGbcZvytGZGQ      April\n",
            "13                   AJM-Model-1  gdsU9bkGRWW7LTEHP4rGgQ      April\n",
            "14               RobinCastro-DBS  7KrbyQXvTBOxnBa0p9YuUA      April\n",
            "15                         Rober  KrRSYhzKTfONjRaDUc_ubQ      April\n",
            "16                         Mungi  RgTvucbNQja7yiYbgh2p9A      April\n",
            "17                        Maikel  FeKoIRn0Tsa6tACAWZ_2gw      April\n",
            "18                   AIDeepRacer  pIRbdCx6QYatgVXm2p5GbA      April\n",
            "19                 Penguin-DNPds  Nr3YCYWGTA631Xqa0uDPhw      April\n",
            "20                         Joffe  ce17e3bfe82649448e2f3w        May\n",
            "21              ZhengYi-NYCU-CGI  qY4J9IzvQS6a1N-KZXwviA        May\n",
            "22                Yoway-NYCU-CGI  1fBE9Y-DR4aOhdY6ydu-rA        May\n",
            "23                Yi-LI-NYCU-CGI  jrJHq8pZQAyj4gGqMw8-DQ        May\n",
            "24                          Matt  cVk-aYKdRUmuL0qmjyzmag        May\n",
            "25                     rosscomp1  fb0d597a87f94697aa1c6w        May\n",
            "26                  Breadcentric  SjNec5b-SpOk7y9b6rh4KQ        May\n",
            "27         JPMC-HandsFree-London  DZAYqyd-Tp6eE15IopWCgQ        May\n",
            "28                         alexj  Km6btE1_SFCCCqWJ4H6Fyg        May\n",
            "29         ShibaInu-DevelopersIO  q3lEztDGTfSD-GgkF5IgTg        May\n",
            "30      JPMC-TeamOne-BuenosAires  Fy8bvUIzSN-N-e3D74JhPw       June\n",
            "31                         TonyJ  af962be5a4ed4c57af807w       June\n",
            "32                        SorinB  TFtvCas4TRWchrBPMyGh0A       June\n",
            "33                         atnmn  b3960b6c6f58458880ceew       June\n",
            "34                  EnBW-Flitzer  je1HIMgRQtibB3H9325TRw       June\n",
            "35                    kimwooglae  bOqKo-ebR_essdUaZVGO4Q       June\n",
            "36                         think  IHHC4YftQLaMAs0VyXFJzw       June\n",
            "37                       ABaykov  aa28j7SWTd-LxMzvFoj_bA       June\n",
            "38                         MiLKB  8KL8u0H3RIWxgP14x_RC6w       June\n",
            "39                         Ohrid  78e6a549fe0a4a8e90b41w       June\n",
            "40            JPMC-Ace-Hyderabad  6fdcVCAkQtCCsyHEO0LNiA       July\n",
            "41          JPMC-Rogue-Hyderabad  LKdw_hyKTSu7moFuxbmiZw       July\n",
            "42              CGS-LargeLattice  o6NgljsnTOOelVAsofMR3g       July\n",
            "43                        skoota  -1lhRLeeRTCRUGoxx3ybDA       July\n",
            "44         JPMC-Singapore-Chetak  LJzDpiNuTFeHu9dsqp1APw       July\n",
            "45                ProteusXplorer  iRqwbBoKQY-tP2tGpIMlxA       July\n",
            "46                    Doug-Racer  1R021ZoDQrqxSUiHfBvyEw       July\n",
            "47                   JPMC-Ann-NJ  sGrJzwIVRZ6-HawSmV1Tyg       July\n",
            "48            JPMC-KWGK-HongKong  zKdKXknwQVCObGdEgutObQ       July\n",
            "49                    AllenRacer  ASI6Udz9QCewwoQHEyDbpw       July\n",
            "50                        Carvai  SsDvF8JeRvaeXye0kQfvpA     August\n",
            "51      CGS-on-your-12-hopefully  C4LEAeusQ8uY4gJ45GcKlg     August\n",
            "52                  blueberrypie  EmZsQC41RtW5hhxb6z2-xQ     August\n",
            "53                  ep-dr-racer1  vEZxFEnhQHeI5tKR4Tz3rQ     August\n",
            "54               CGS-Huge-Hadr0n  63LA0_QCQ1-fRLzXgWmAeQ     August\n",
            "55                     LeadingAI  VP5wwaH5T4GciaMX2ocEvQ     August\n",
            "56                 CGS-NoobRacer  aAzrnsy5RA-xhP44Su0AWg     August\n",
            "57  JPMC-BMTH-RacersOfTheLostArk  4607b3c36ab4490cad7a4w     August\n",
            "58                  mayurmadnani  hr8K12KMRhSIDUEJbQT8fg     August\n",
            "59                  Aurora-DNPds  26fba66bedca4aa3bca47w     August\n",
            "60                           ADA  KiqOhQPjTamuBXicXnKGEA  September\n",
            "61                    Deepak-dpk  gDTBFK77TM6wD6uObZlulA  September\n",
            "62                 Bandwidth-RnD  77V1kp1kRJCO5D4zgSrqxA  September\n",
            "63                  CGS-BigBoson  U1DMLV72SSmIjLE-fPGbuw  September\n",
            "64               Jacky-LeadingAI  G17n-1ZGRomjX-x9WXUvhw  September\n",
            "65                        Yuliya  JWJgkv8bSKeMIGYZ9roR-A  September\n",
            "66                          S-P-  MxT5p4ZvSTOcc6ANa8VZNg  September\n",
            "67                     KenyaMpya  ttQ3BR0RTiGi0tdduIXIzA  September\n",
            "68                      Janesoki  3SvT2_04Tl-5RIyNtDNtjA  September\n",
            "69          JPMC-MUM-RapidRacers  mvhmcw-ET5igAaFz3O6kGw  September\n",
            "70      JPMC-HYD-CircuitBreakers  vA_gK0vxTNWI-MTWEWLAxw    October\n",
            "71                       Galileo  Y79AzaaOR-u4LVKMxu1Mdw    October\n",
            "72                CGS-Slipstream  N6W21hRAQAqs-12kYgYM6Q    October\n",
            "73                        Xavier  pPhTbPBRSg-L3tYPKcCjcA    October\n",
            "74                     Ash-DNPds  9aced9109a634d11a3134w    October\n",
            "75                       Wingism  Spey2yUETeKA1doS2t-McQ    October\n",
            "76               racing-director  xatwPe0GRi6-ntb20DPVpA    October\n",
            "77         JPMC-MUMBAI-FormulaAI  Gx2StgEoSza3Gxxo4Oghug    October\n",
            "78            JPMC-HYD-Crusaders  V0qPcq3FQhyn3gy0ysuUHw    October\n",
            "79                drunken-monkey  c7a82cb998e44f9abd469Q    October\n"
          ]
        }
      ]
    },
    {
      "cell_type": "code",
      "metadata": {
        "colab": {
          "base_uri": "https://localhost:8080/"
        },
        "id": "slZSegC2eURg",
        "outputId": "8f3278b5-a86f-439e-e5a2-c98b090ad068"
      },
      "source": [
        "# Print who qualify for the Re:Invent\n",
        "print (winner ()) "
      ],
      "execution_count": 121,
      "outputs": [
        {
          "output_type": "stream",
          "name": "stdout",
          "text": [
            "                       Alias                  UserId      Month\n",
            "0                   Karl-NAB  4vOOxLIsSjeL2WFaO5o_fQ      March\n",
            "1                         JJ  afdcX_4vRH6Ussd0mbg5LQ      March\n",
            "2                       DBro  jEkEOpjZRhGUbyDZIfTo_A      March\n",
            "3                RogerRabbit  DXXOncNRR1iiqhBvpPO-_A      April\n",
            "4                  flatearth  9e3a9607a4e04ba2b1a49w      April\n",
            "5              PolishThunder  qi512oGVTry8V-KtP6j2_w      April\n",
            "6                     Jochem  RBPhZc5eTVmEF_gpSV7skg        May\n",
            "7     JPMC-DriftKing-Houston  fngewpiZSZm11yX7YgwnMA        May\n",
            "8                      Joffe  ce17e3bfe82649448e2f3w        May\n",
            "9   JPMC-TeamOne-BuenosAires  Fy8bvUIzSN-N-e3D74JhPw       June\n",
            "10            Yoway-NYCU-CGI  1fBE9Y-DR4aOhdY6ydu-rA       June\n",
            "11              Breadcentric  SjNec5b-SpOk7y9b6rh4KQ       June\n",
            "12          ZhengYi-NYCU-CGI  qY4J9IzvQS6a1N-KZXwviA       July\n",
            "13            Yi-LI-NYCU-CGI  jrJHq8pZQAyj4gGqMw8-DQ       July\n",
            "14                 rosscomp1  fb0d597a87f94697aa1c6w       July\n",
            "15               AIDeepRacer  pIRbdCx6QYatgVXm2p5GbA     August\n",
            "16                 Duckworth  VIu9BQ4-Th6gUqu60ztwUQ     August\n",
            "17          CGS-LargeLattice  o6NgljsnTOOelVAsofMR3g     August\n",
            "18                     Rober  KrRSYhzKTfONjRaDUc_ubQ  September\n",
            "19           CGS-Huge-Hadr0n  63LA0_QCQ1-fRLzXgWmAeQ  September\n",
            "20                    Carvai  SsDvF8JeRvaeXye0kQfvpA  September\n"
          ]
        }
      ]
    },
    {
      "cell_type": "code",
      "metadata": {
        "id": "KzMHVUM3IcEg"
      },
      "source": [
        ""
      ],
      "execution_count": 121,
      "outputs": []
    },
    {
      "cell_type": "code",
      "metadata": {
        "id": "hGl0FXTuEvHf"
      },
      "source": [
        ""
      ],
      "execution_count": 121,
      "outputs": []
    },
    {
      "cell_type": "code",
      "metadata": {
        "id": "rpfMMw_9H17_"
      },
      "source": [
        ""
      ],
      "execution_count": 121,
      "outputs": []
    },
    {
      "cell_type": "code",
      "metadata": {
        "id": "6BBeIIYkODtn"
      },
      "source": [
        ""
      ],
      "execution_count": null,
      "outputs": []
    }
  ]
}